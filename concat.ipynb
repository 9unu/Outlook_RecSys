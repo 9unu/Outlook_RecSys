{
 "cells": [
  {
   "cell_type": "code",
   "execution_count": 1,
   "metadata": {},
   "outputs": [
    {
     "name": "stdout",
     "output_type": "stream",
     "text": [
      "['processed_data.pickle', 'processed_data2.pickle', 'processed_data3.pickle', 'processed_data3_1.pickle', 'processed_data3_2.pickle', 'processed_data3_3.pickle', 'processed_data4.pickle', 'processed_data5.pickle', 'processed_data5_1.pickle', 'processed_data5_2.pickle', 'processed_data5_3.pickle', 'processed_data5_4.pickle', 'processed_data6.pickle', 'processed_data610_embd.pickle', 'processed_data7.pickle', 'processed_data_1.pickle', 'processed_data_223.pickle', 'processed_data_2321.pickle', 'processed_data_4.pickle']\n"
     ]
    }
   ],
   "source": [
    "import os\n",
    "\n",
    "folder_path='processed_data'\n",
    "\n",
    "file_list=os.listdir(folder_path)\n",
    "print(file_list)"
   ]
  },
  {
   "cell_type": "code",
   "execution_count": 2,
   "metadata": {},
   "outputs": [],
   "source": [
    "import pandas as pd\n",
    "import numpy as np\n",
    "\n",
    "total_df=pd.DataFrame()\n",
    "for file in file_list:\n",
    "    file_path=os.path.join(folder_path, file)\n",
    "    df=pd.read_pickle(file_path)\n",
    "    df.replace(\"nan\", np.nan, inplace=True)\n",
    "    df.dropna(inplace=True)\n",
    "    df['product_link']=df['product_num'].apply(lambda row:f\"https://www.musinsa.com/app/styles/views/{row}?\")\n",
    "    total_df=pd.concat([total_df, df], axis=0)"
   ]
  },
  {
   "cell_type": "code",
   "execution_count": 8,
   "metadata": {},
   "outputs": [
    {
     "name": "stdout",
     "output_type": "stream",
     "text": [
      "36338\n"
     ]
    }
   ],
   "source": [
    "import json\n",
    "\n",
    "with open('musinsa_data.json', 'r') as f:\n",
    "    data = json.load(f)\n",
    "print(len(data))"
   ]
  },
  {
   "cell_type": "code",
   "execution_count": 3,
   "metadata": {},
   "outputs": [
    {
     "data": {
      "text/plain": [
       "29524"
      ]
     },
     "execution_count": 3,
     "metadata": {},
     "output_type": "execute_result"
    }
   ],
   "source": [
    "len(total_df)"
   ]
  },
  {
   "cell_type": "code",
   "execution_count": 4,
   "metadata": {},
   "outputs": [],
   "source": [
    "total_df.to_pickle(\"total_processed_data.pickle\")"
   ]
  },
  {
   "cell_type": "code",
   "execution_count": 6,
   "metadata": {},
   "outputs": [
    {
     "data": {
      "text/plain": [
       "0"
      ]
     },
     "execution_count": 6,
     "metadata": {},
     "output_type": "execute_result"
    }
   ],
   "source": [
    "total_df.duplicated().sum()"
   ]
  }
 ],
 "metadata": {
  "kernelspec": {
   "display_name": "clip",
   "language": "python",
   "name": "python3"
  },
  "language_info": {
   "codemirror_mode": {
    "name": "ipython",
    "version": 3
   },
   "file_extension": ".py",
   "mimetype": "text/x-python",
   "name": "python",
   "nbconvert_exporter": "python",
   "pygments_lexer": "ipython3",
   "version": "3.12.3"
  }
 },
 "nbformat": 4,
 "nbformat_minor": 2
}
