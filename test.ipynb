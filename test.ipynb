{
 "cells": [
  {
   "cell_type": "code",
   "execution_count": 1,
   "metadata": {},
   "outputs": [],
   "source": [
    "import pandas as pd\n",
    "\n",
    "df=pd.read_pickle(r\"C:\\Users\\KHU\\Desktop\\무신사\\processed_data.pickle\")"
   ]
  },
  {
   "cell_type": "code",
   "execution_count": 4,
   "metadata": {},
   "outputs": [
    {
     "name": "stdout",
     "output_type": "stream",
     "text": [
      "DataFrame 1:\n",
      "DataFrame 2:\n",
      "DataFrame 3:\n",
      "DataFrame 4:\n",
      "DataFrame 5:\n",
      "DataFrame 6:\n",
      "DataFrame 7:\n"
     ]
    }
   ],
   "source": [
    "import pandas as pd\n",
    "import json\n",
    "\n",
    "# JSON 파일 읽기\n",
    "with open(\"musinsa_data.json\", 'r', encoding='utf-8') as file:\n",
    "    data = json.load(file)\n",
    "\n",
    "# 데이터프레임으로 변환\n",
    "df = pd.DataFrame(data)\n",
    "\n",
    "# 데이터프레임 분할\n",
    "num_splits = 7\n",
    "split_size = len(df) // num_splits\n",
    "\n",
    "df_list = [df[i*split_size:(i+1)*split_size] for i in range(num_splits)]\n",
    "\n",
    "# 나머지 데이터프레임이 있을 경우 마지막 데이터프레임에 추가\n",
    "if len(df) % num_splits != 0:\n",
    "    df_list[-1] = pd.concat([df_list[-1], df[num_splits*split_size:]])\n",
    "\n",
    "# 결과 확인\n",
    "for idx, split_df in enumerate(df_list):\n",
    "    print(f\"DataFrame {idx+1}:\")\n",
    "    split_df.to_csv(f\"musinsa_df_{idx+1}.csv\", index=False, encoding='utf-8-sig')"
   ]
  }
 ],
 "metadata": {
  "kernelspec": {
   "display_name": "clip",
   "language": "python",
   "name": "python3"
  },
  "language_info": {
   "codemirror_mode": {
    "name": "ipython",
    "version": 3
   },
   "file_extension": ".py",
   "mimetype": "text/x-python",
   "name": "python",
   "nbconvert_exporter": "python",
   "pygments_lexer": "ipython3",
   "version": "3.12.3"
  }
 },
 "nbformat": 4,
 "nbformat_minor": 2
}
